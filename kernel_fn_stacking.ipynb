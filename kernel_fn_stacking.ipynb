{
  "cells": [
    {
      "cell_type": "markdown",
      "metadata": {
        "id": "view-in-github",
        "colab_type": "text"
      },
      "source": [
        "<a href=\"https://colab.research.google.com/github/FabianoVeglianti/temporaryCodeRepository/blob/main/kernel_fn_stacking.ipynb\" target=\"_parent\"><img src=\"https://colab.research.google.com/assets/colab-badge.svg\" alt=\"Open In Colab\"/></a>"
      ]
    },
    {
      "cell_type": "code",
      "execution_count": null,
      "metadata": {
        "id": "3p-f7DzrSMUl"
      },
      "outputs": [],
      "source": [
        "import matplotlib.pyplot as plt\n",
        "#import seaborn as sns\n",
        "from scipy.stats import norm\n",
        "import numpy as np\n",
        "from scipy import stats"
      ]
    },
    {
      "cell_type": "code",
      "execution_count": null,
      "metadata": {
        "colab": {
          "base_uri": "https://localhost:8080/"
        },
        "id": "qyCiUS8rSVp5",
        "outputId": "7dd86263-8266-4684-c60d-aa18164b1af1"
      },
      "outputs": [
        {
          "name": "stdout",
          "output_type": "stream",
          "text": [
            "\u001b[2K     \u001b[90m━━━━━━━━━━━━━━━━━━━━━━━━━━━━━━━━━━━━━━━━\u001b[0m \u001b[32m2.1/2.1 MB\u001b[0m \u001b[31m24.5 MB/s\u001b[0m eta \u001b[36m0:00:00\u001b[0m\n",
            "\u001b[2K     \u001b[90m━━━━━━━━━━━━━━━━━━━━━━━━━━━━━━━━━━━━━━━\u001b[0m \u001b[32m149.6/149.6 MB\u001b[0m \u001b[31m6.8 MB/s\u001b[0m eta \u001b[36m0:00:00\u001b[0m\n",
            "\u001b[?25h\u001b[33mWARNING: Running pip as the 'root' user can result in broken permissions and conflicting behaviour with the system package manager. It is recommended to use a virtual environment instead: https://pip.pypa.io/warnings/venv\u001b[0m\u001b[33m\n",
            "\u001b[0m  Preparing metadata (setup.py) ... \u001b[?25l\u001b[?25hdone\n",
            "\u001b[2K     \u001b[90m━━━━━━━━━━━━━━━━━━━━━━━━━━━━━━━━━━━━━━━━\u001b[0m \u001b[32m86.2/86.2 kB\u001b[0m \u001b[31m3.7 MB/s\u001b[0m eta \u001b[36m0:00:00\u001b[0m\n",
            "\u001b[2K     \u001b[90m━━━━━━━━━━━━━━━━━━━━━━━━━━━━━━━━━━━━━━━━\u001b[0m \u001b[32m17.3/17.3 MB\u001b[0m \u001b[31m80.7 MB/s\u001b[0m eta \u001b[36m0:00:00\u001b[0m\n",
            "\u001b[2K     \u001b[90m━━━━━━━━━━━━━━━━━━━━━━━━━━━━━━━━━━━━━━━━\u001b[0m \u001b[32m17.1/17.1 MB\u001b[0m \u001b[31m68.7 MB/s\u001b[0m eta \u001b[36m0:00:00\u001b[0m\n",
            "\u001b[?25h  Building wheel for neural-tangents (setup.py) ... \u001b[?25l\u001b[?25hdone\n",
            "\u001b[33mWARNING: Running pip as the 'root' user can result in broken permissions and conflicting behaviour with the system package manager. It is recommended to use a virtual environment instead: https://pip.pypa.io/warnings/venv\u001b[0m\u001b[33m\n",
            "\u001b[0m"
          ]
        }
      ],
      "source": [
        "!pip install -q --upgrade pip\n",
        "!pip install -q --upgrade jax[cuda11_cudnn82] -f https://storage.googleapis.com/jax-releases/jax_cuda_releases.html\n",
        "!pip install -q git+https://www.github.com/google/neural-tangents"
      ]
    },
    {
      "cell_type": "code",
      "execution_count": null,
      "metadata": {
        "id": "5Q94I0GVShEI"
      },
      "outputs": [],
      "source": [
        "import jax.numpy as jnp\n",
        "import math\n",
        "from jax import random\n",
        "from jax.example_libraries import optimizers\n",
        "from jax import jit, grad, vmap\n",
        "import itertools\n",
        "\n",
        "import functools\n",
        "\n",
        "import neural_tangents as nt\n",
        "from neural_tangents import stax"
      ]
    },
    {
      "cell_type": "code",
      "execution_count": null,
      "metadata": {
        "id": "6rd7y6gTSlzo"
      },
      "outputs": [],
      "source": [
        "# Initialization of PRNG's keys\n",
        "seed=1\n",
        "rootKey = random.PRNGKey(seed)\n",
        "keys = random.split(rootKey, 3)\n",
        "rootKey = keys[0]\n",
        "initKey = keys[1]\n",
        "dataKey = keys[2]"
      ]
    },
    {
      "cell_type": "code",
      "execution_count": null,
      "metadata": {
        "id": "_ceJkIFBSmdY"
      },
      "outputs": [],
      "source": [
        "def mlp_neural_tangents(\n",
        "    Cw_sqrt,\n",
        "    Cb_sqrt,\n",
        "    n_list,\n",
        "    L,\n",
        "    parameterization\n",
        "):\n",
        "    \"\"\"Construct fully connected NN model and infinite width NTK & NNGP kernel\n",
        "       function.\n",
        "\n",
        "    Args:\n",
        "        Cw_sqrt è la std dei pesi W\n",
        "        Cb_sqrt è la std dei bias b\n",
        "        L è il numero di hidden layers\n",
        "        n_list è una lista di L interi. n_list[i] è il numero di neuroni allo strato (i+1)-esimo - i neuroni allo strato 0 non vanno specificati\n",
        "        parameterization (string): Parameterization string, 'ntk' or 'standard'.\n",
        "        Dettagli riguardo la parametrizzazione in: https://neural-tangents.readthedocs.io/en/latest/_autosummary/neural_tangents.stax.Dense.html#neural_tangents.stax.Dense\n",
        "\n",
        "    Returns:\n",
        "        `(init_fn, apply_fn, kernel_fn)`\n",
        "    \"\"\"\n",
        "    print(n_list)\n",
        "    layers_list = [stax.Dense(n_list[0], Cw_sqrt, Cb_sqrt, parameterization=parameterization)]\n",
        "\n",
        "    def layer_block(width):\n",
        "        return stax.serial(stax.Relu(), stax.Dense(width, Cw_sqrt, Cb_sqrt, parameterization=parameterization))\n",
        " \n",
        "    for i in range(1, L+1):\n",
        "        layers_list += [stax.Relu(), stax.Dense(n_list[i], Cw_sqrt, Cb_sqrt, parameterization=parameterization)]\n",
        "\n",
        "    # for i in range(L-1):\n",
        "    #     print(i)\n",
        "    #     print(n_list)\n",
        "    #     layers_list += [layer_block(n_list[i+1])]\n",
        "\n",
        "    # layers_list += [stax.Relu(), stax.Dense(n_list[L], Cw_sqrt, Cb_sqrt, parameterization=parameterization)]\n",
        "\n",
        "    # print (f\"---- layer list is {layers_list} ------\")\n",
        "\n",
        "    init_fn, apply_fn, kernel_fn = stax.serial(*layers_list)\n",
        "\n",
        "    apply_fn = jit(apply_fn)\n",
        "\n",
        "    return init_fn, apply_fn, kernel_fn, layers_list  #apply_fn is f_hat"
      ]
    },
    {
      "cell_type": "code",
      "execution_count": null,
      "metadata": {
        "id": "X9j2pboOSwxP"
      },
      "outputs": [],
      "source": [
        "keys = random.split(rootKey, 2)\n",
        "rootKey = keys[0]\n",
        "[x1, x2] = random.uniform(keys[1], minval=-1, maxval = 1, shape=(2,16), dtype=jnp.float64)"
      ]
    },
    {
      "cell_type": "code",
      "execution_count": null,
      "metadata": {
        "id": "3IjU7QqzSzlY"
      },
      "outputs": [],
      "source": [
        "def get_nn_layers_functions(layer_list):\n",
        "  layers_functions = {}\n",
        "  t = list(zip(*layer_list))\n",
        "  layers_functions[\"init_fns\"] = t[0]\n",
        "  layers_functions[\"apply_fns\"] = t[1]\n",
        "  layers_functions[\"kernel_fns\"] = t[2]\n",
        "  return layers_functions"
      ]
    },
    {
      "cell_type": "code",
      "execution_count": null,
      "metadata": {
        "id": "4eAaSbN_S1BB"
      },
      "outputs": [],
      "source": [
        "def split_keys(rootKey, n):\n",
        "  if(n < 1 or n%1!=0):\n",
        "    print(\"n deve essere >= 1 e intero\")\n",
        "  keys = random.split(rootKey, n+1)\n",
        "  return keys[0], keys[1:]"
      ]
    },
    {
      "cell_type": "code",
      "execution_count": null,
      "metadata": {
        "id": "0wdvzeW079fk"
      },
      "outputs": [],
      "source": [
        "def reinitialize_MLP_layer_l(rootKey, l, layers_functions, params_dict, x_alpha, width):\n",
        "  rootKey, key = split_keys(rootKey,2)\n",
        "  shape = 0\n",
        "  if l == 0:\n",
        "    shape = x_alpha.shape\n",
        "  else:\n",
        "    shape = width\n",
        "  _, params_layerl = layers_functions[\"init_fns\"][2*l+0](key[0], shape)\n",
        "  _, params_layerl_plus_1 = layers_functions[\"init_fns\"][2*l+1](key[1], shape)\n",
        "  params_dict[2*l] = params_layerl\n",
        "  params_dict[2*l+1] = params_layerl_plus_1\n",
        "\n",
        "  return params_layers"
      ]
    },
    {
      "cell_type": "code",
      "execution_count": null,
      "metadata": {
        "id": "5gUsxHIMZgQd"
      },
      "outputs": [],
      "source": [
        "def create_k_0_list(layers_functions, x_alpha):\n",
        "  k_0_list = []\n",
        "  for l in range(len(layers_functions)):\n",
        "    if l == 0:\n",
        "      k_0_list.append((layers_functions[\"kernel_fns\"][l](x_alpha.reshape(1,16), x_alpha.reshape(1,16)).nngp)[0])\n",
        "    else:\n",
        "      k_0_list"
      ]
    },
    {
      "cell_type": "code",
      "execution_count": 24,
      "metadata": {
        "colab": {
          "base_uri": "https://localhost:8080/",
          "height": 432
        },
        "id": "mOsoWaLVbYYN",
        "outputId": "4d5e08fb-fe7b-4d98-8977-590ae853ce8e"
      },
      "outputs": [
        {
          "output_type": "stream",
          "name": "stdout",
          "text": [
            "[8, 4, 2, 1]\n",
            "[1.9153962]\n",
            "[1.3231703]\n"
          ]
        },
        {
          "output_type": "error",
          "ename": "ValueError",
          "evalue": "ignored",
          "traceback": [
            "\u001b[0;31m---------------------------------------------------------------------------\u001b[0m",
            "\u001b[0;31mValueError\u001b[0m                                Traceback (most recent call last)",
            "\u001b[0;32m<ipython-input-24-d658597b21fe>\u001b[0m in \u001b[0;36m<cell line: 15>\u001b[0;34m()\u001b[0m\n\u001b[1;32m     13\u001b[0m \u001b[0mprint\u001b[0m\u001b[0;34m(\u001b[0m\u001b[0mkernel_0_ouptut\u001b[0m\u001b[0;34m[\u001b[0m\u001b[0;36m0\u001b[0m\u001b[0;34m]\u001b[0m\u001b[0;34m)\u001b[0m\u001b[0;34m\u001b[0m\u001b[0;34m\u001b[0m\u001b[0m\n\u001b[1;32m     14\u001b[0m \u001b[0;34m\u001b[0m\u001b[0m\n\u001b[0;32m---> 15\u001b[0;31m \u001b[0mkernel_1_ouptut\u001b[0m \u001b[0;34m=\u001b[0m \u001b[0mlayers_functions\u001b[0m\u001b[0;34m[\u001b[0m\u001b[0;34m\"kernel_fns\"\u001b[0m\u001b[0;34m]\u001b[0m\u001b[0;34m[\u001b[0m\u001b[0;36m1\u001b[0m\u001b[0;34m]\u001b[0m\u001b[0;34m(\u001b[0m\u001b[0mkernel_0_ouptut\u001b[0m\u001b[0;34m,\u001b[0m \u001b[0mkernel_0_ouptut\u001b[0m\u001b[0;34m)\u001b[0m\u001b[0;34m.\u001b[0m\u001b[0mnngp\u001b[0m\u001b[0;34m\u001b[0m\u001b[0;34m\u001b[0m\u001b[0m\n\u001b[0m\u001b[1;32m     16\u001b[0m \u001b[0mprint\u001b[0m\u001b[0;34m(\u001b[0m\u001b[0mkernel_1_ouptut\u001b[0m\u001b[0;34m[\u001b[0m\u001b[0;36m0\u001b[0m\u001b[0;34m]\u001b[0m\u001b[0;34m)\u001b[0m\u001b[0;34m\u001b[0m\u001b[0;34m\u001b[0m\u001b[0m\n\u001b[1;32m     17\u001b[0m \u001b[0;34m\u001b[0m\u001b[0m\n",
            "\u001b[0;32m/usr/local/lib/python3.10/dist-packages/neural_tangents/_src/utils/utils.py\u001b[0m in \u001b[0;36mh\u001b[0;34m(*args, **kwargs)\u001b[0m\n\u001b[1;32m    187\u001b[0m     \u001b[0;34m@\u001b[0m\u001b[0mfunctools\u001b[0m\u001b[0;34m.\u001b[0m\u001b[0mwraps\u001b[0m\u001b[0;34m(\u001b[0m\u001b[0mf\u001b[0m\u001b[0;34m)\u001b[0m\u001b[0;34m\u001b[0m\u001b[0;34m\u001b[0m\u001b[0m\n\u001b[1;32m    188\u001b[0m     \u001b[0;32mdef\u001b[0m \u001b[0mh\u001b[0m\u001b[0;34m(\u001b[0m\u001b[0;34m*\u001b[0m\u001b[0margs\u001b[0m\u001b[0;34m,\u001b[0m \u001b[0;34m**\u001b[0m\u001b[0mkwargs\u001b[0m\u001b[0;34m)\u001b[0m\u001b[0;34m:\u001b[0m\u001b[0;34m\u001b[0m\u001b[0;34m\u001b[0m\u001b[0m\n\u001b[0;32m--> 189\u001b[0;31m       \u001b[0;32mreturn\u001b[0m \u001b[0mg\u001b[0m\u001b[0;34m(\u001b[0m\u001b[0;34m*\u001b[0m\u001b[0margs\u001b[0m\u001b[0;34m,\u001b[0m \u001b[0;34m**\u001b[0m\u001b[0mkwargs\u001b[0m\u001b[0;34m)\u001b[0m\u001b[0;34m\u001b[0m\u001b[0;34m\u001b[0m\u001b[0m\n\u001b[0m\u001b[1;32m    190\u001b[0m \u001b[0;34m\u001b[0m\u001b[0m\n\u001b[1;32m    191\u001b[0m     \u001b[0mh\u001b[0m\u001b[0;34m.\u001b[0m\u001b[0m__signature__\u001b[0m \u001b[0;34m=\u001b[0m \u001b[0minspect\u001b[0m\u001b[0;34m.\u001b[0m\u001b[0msignature\u001b[0m\u001b[0;34m(\u001b[0m\u001b[0mf\u001b[0m\u001b[0;34m)\u001b[0m\u001b[0;34m\u001b[0m\u001b[0;34m\u001b[0m\u001b[0m\n",
            "\u001b[0;32m/usr/local/lib/python3.10/dist-packages/neural_tangents/_src/utils/utils.py\u001b[0m in \u001b[0;36mgetter_fn\u001b[0;34m(*args, **kwargs)\u001b[0m\n\u001b[1;32m    221\u001b[0m                                                           len(args)])\n\u001b[1;32m    222\u001b[0m \u001b[0;34m\u001b[0m\u001b[0m\n\u001b[0;32m--> 223\u001b[0;31m       \u001b[0mfn_out\u001b[0m \u001b[0;34m=\u001b[0m \u001b[0mfn\u001b[0m\u001b[0;34m(\u001b[0m\u001b[0;34m*\u001b[0m\u001b[0mcanonicalized_args\u001b[0m\u001b[0;34m,\u001b[0m \u001b[0;34m**\u001b[0m\u001b[0mkwargs\u001b[0m\u001b[0;34m)\u001b[0m\u001b[0;34m\u001b[0m\u001b[0;34m\u001b[0m\u001b[0m\n\u001b[0m\u001b[1;32m    224\u001b[0m \u001b[0;34m\u001b[0m\u001b[0m\n\u001b[1;32m    225\u001b[0m       \u001b[0;34m@\u001b[0m\u001b[0mnt_tree_fn\u001b[0m\u001b[0;34m(\u001b[0m\u001b[0;34m)\u001b[0m\u001b[0;34m\u001b[0m\u001b[0;34m\u001b[0m\u001b[0m\n",
            "\u001b[0;32m/usr/local/lib/python3.10/dist-packages/neural_tangents/_src/stax/requirements.py\u001b[0m in \u001b[0;36mkernel_fn_any\u001b[0;34m(x1_or_kernel, x2, get, pattern, mask_constant, diagonal_batch, diagonal_spatial, **kwargs)\u001b[0m\n\u001b[1;32m   1007\u001b[0m                               **kwargs)\n\u001b[1;32m   1008\u001b[0m \u001b[0;34m\u001b[0m\u001b[0m\n\u001b[0;32m-> 1009\u001b[0;31m     return kernel_fn_x1(x1_or_kernel, x2, get,\n\u001b[0m\u001b[1;32m   1010\u001b[0m                         \u001b[0mpattern\u001b[0m\u001b[0;34m=\u001b[0m\u001b[0mpattern\u001b[0m\u001b[0;34m,\u001b[0m\u001b[0;34m\u001b[0m\u001b[0;34m\u001b[0m\u001b[0m\n\u001b[1;32m   1011\u001b[0m                         \u001b[0mdiagonal_batch\u001b[0m\u001b[0;34m=\u001b[0m\u001b[0mdiagonal_batch\u001b[0m\u001b[0;34m,\u001b[0m\u001b[0;34m\u001b[0m\u001b[0;34m\u001b[0m\u001b[0m\n",
            "\u001b[0;32m/usr/local/lib/python3.10/dist-packages/neural_tangents/_src/stax/requirements.py\u001b[0m in \u001b[0;36mkernel_fn_x1\u001b[0;34m(x1, x2, get, **kwargs)\u001b[0m\n\u001b[1;32m    920\u001b[0m     \u001b[0mkernel\u001b[0m \u001b[0;34m=\u001b[0m \u001b[0mtree_map\u001b[0m\u001b[0;34m(\u001b[0m\u001b[0minput_fn\u001b[0m\u001b[0;34m,\u001b[0m \u001b[0mx1\u001b[0m\u001b[0;34m,\u001b[0m \u001b[0mx2\u001b[0m\u001b[0;34m)\u001b[0m\u001b[0;34m\u001b[0m\u001b[0;34m\u001b[0m\u001b[0m\n\u001b[1;32m    921\u001b[0m \u001b[0;34m\u001b[0m\u001b[0m\n\u001b[0;32m--> 922\u001b[0;31m     \u001b[0mout_kernel\u001b[0m \u001b[0;34m=\u001b[0m \u001b[0mkernel_fn\u001b[0m\u001b[0;34m(\u001b[0m\u001b[0mkernel\u001b[0m\u001b[0;34m,\u001b[0m \u001b[0;34m**\u001b[0m\u001b[0mkwargs\u001b[0m\u001b[0;34m)\u001b[0m\u001b[0;34m\u001b[0m\u001b[0;34m\u001b[0m\u001b[0m\n\u001b[0m\u001b[1;32m    923\u001b[0m     \u001b[0;32mreturn\u001b[0m \u001b[0m_set_shapes\u001b[0m\u001b[0;34m(\u001b[0m\u001b[0minit_fn\u001b[0m\u001b[0;34m,\u001b[0m \u001b[0mapply_fn\u001b[0m\u001b[0;34m,\u001b[0m \u001b[0mkernel\u001b[0m\u001b[0;34m,\u001b[0m \u001b[0mout_kernel\u001b[0m\u001b[0;34m,\u001b[0m \u001b[0;34m**\u001b[0m\u001b[0mkwargs\u001b[0m\u001b[0;34m)\u001b[0m\u001b[0;34m\u001b[0m\u001b[0;34m\u001b[0m\u001b[0m\n\u001b[1;32m    924\u001b[0m \u001b[0;34m\u001b[0m\u001b[0m\n",
            "\u001b[0;32m/usr/local/lib/python3.10/dist-packages/neural_tangents/_src/stax/requirements.py\u001b[0m in \u001b[0;36mkernel_fn_with_masking\u001b[0;34m(k, **user_reqs)\u001b[0m\n\u001b[1;32m    223\u001b[0m         \u001b[0mmask1\u001b[0m\u001b[0;34m,\u001b[0m \u001b[0mmask2\u001b[0m \u001b[0;34m=\u001b[0m \u001b[0mmask_fn\u001b[0m\u001b[0;34m(\u001b[0m\u001b[0mmask1\u001b[0m\u001b[0;34m,\u001b[0m \u001b[0mshape1\u001b[0m\u001b[0;34m)\u001b[0m\u001b[0;34m,\u001b[0m \u001b[0mmask_fn\u001b[0m\u001b[0;34m(\u001b[0m\u001b[0mmask2\u001b[0m\u001b[0;34m,\u001b[0m \u001b[0mshape2\u001b[0m\u001b[0;34m)\u001b[0m\u001b[0;34m\u001b[0m\u001b[0;34m\u001b[0m\u001b[0m\n\u001b[1;32m    224\u001b[0m \u001b[0;34m\u001b[0m\u001b[0m\n\u001b[0;32m--> 225\u001b[0;31m         \u001b[0mk\u001b[0m \u001b[0;34m=\u001b[0m \u001b[0mkernel_fn\u001b[0m\u001b[0;34m(\u001b[0m\u001b[0mk\u001b[0m\u001b[0;34m,\u001b[0m \u001b[0;34m**\u001b[0m\u001b[0muser_reqs\u001b[0m\u001b[0;34m)\u001b[0m  \u001b[0;31m# type: Kernel\u001b[0m\u001b[0;34m\u001b[0m\u001b[0;34m\u001b[0m\u001b[0m\n\u001b[0m\u001b[1;32m    226\u001b[0m \u001b[0;34m\u001b[0m\u001b[0m\n\u001b[1;32m    227\u001b[0m         \u001b[0;32mif\u001b[0m \u001b[0mremask_kernel\u001b[0m\u001b[0;34m:\u001b[0m\u001b[0;34m\u001b[0m\u001b[0;34m\u001b[0m\u001b[0m\n",
            "\u001b[0;32m/usr/local/lib/python3.10/dist-packages/neural_tangents/_src/utils/utils.py\u001b[0m in \u001b[0;36mh\u001b[0;34m(*args, **kwargs)\u001b[0m\n\u001b[1;32m    187\u001b[0m     \u001b[0;34m@\u001b[0m\u001b[0mfunctools\u001b[0m\u001b[0;34m.\u001b[0m\u001b[0mwraps\u001b[0m\u001b[0;34m(\u001b[0m\u001b[0mf\u001b[0m\u001b[0;34m)\u001b[0m\u001b[0;34m\u001b[0m\u001b[0;34m\u001b[0m\u001b[0m\n\u001b[1;32m    188\u001b[0m     \u001b[0;32mdef\u001b[0m \u001b[0mh\u001b[0m\u001b[0;34m(\u001b[0m\u001b[0;34m*\u001b[0m\u001b[0margs\u001b[0m\u001b[0;34m,\u001b[0m \u001b[0;34m**\u001b[0m\u001b[0mkwargs\u001b[0m\u001b[0;34m)\u001b[0m\u001b[0;34m:\u001b[0m\u001b[0;34m\u001b[0m\u001b[0;34m\u001b[0m\u001b[0m\n\u001b[0;32m--> 189\u001b[0;31m       \u001b[0;32mreturn\u001b[0m \u001b[0mg\u001b[0m\u001b[0;34m(\u001b[0m\u001b[0;34m*\u001b[0m\u001b[0margs\u001b[0m\u001b[0;34m,\u001b[0m \u001b[0;34m**\u001b[0m\u001b[0mkwargs\u001b[0m\u001b[0;34m)\u001b[0m\u001b[0;34m\u001b[0m\u001b[0;34m\u001b[0m\u001b[0m\n\u001b[0m\u001b[1;32m    190\u001b[0m \u001b[0;34m\u001b[0m\u001b[0m\n\u001b[1;32m    191\u001b[0m     \u001b[0mh\u001b[0m\u001b[0;34m.\u001b[0m\u001b[0m__signature__\u001b[0m \u001b[0;34m=\u001b[0m \u001b[0minspect\u001b[0m\u001b[0;34m.\u001b[0m\u001b[0msignature\u001b[0m\u001b[0;34m(\u001b[0m\u001b[0mf\u001b[0m\u001b[0;34m)\u001b[0m\u001b[0;34m\u001b[0m\u001b[0;34m\u001b[0m\u001b[0m\n",
            "\u001b[0;32m/usr/local/lib/python3.10/dist-packages/neural_tangents/_src/stax/requirements.py\u001b[0m in \u001b[0;36mnew_kernel_fn\u001b[0;34m(k, **kwargs)\u001b[0m\n\u001b[1;32m    116\u001b[0m               \u001b[0;32mpass\u001b[0m\u001b[0;34m\u001b[0m\u001b[0;34m\u001b[0m\u001b[0m\n\u001b[1;32m    117\u001b[0m \u001b[0;34m\u001b[0m\u001b[0m\n\u001b[0;32m--> 118\u001b[0;31m       \u001b[0;32mreturn\u001b[0m \u001b[0mkernel_fn\u001b[0m\u001b[0;34m(\u001b[0m\u001b[0mk\u001b[0m\u001b[0;34m,\u001b[0m \u001b[0;34m**\u001b[0m\u001b[0mkwargs\u001b[0m\u001b[0;34m)\u001b[0m\u001b[0;34m\u001b[0m\u001b[0;34m\u001b[0m\u001b[0m\n\u001b[0m\u001b[1;32m    119\u001b[0m \u001b[0;34m\u001b[0m\u001b[0m\n\u001b[1;32m    120\u001b[0m     \u001b[0m_set_req\u001b[0m\u001b[0;34m(\u001b[0m\u001b[0mnew_kernel_fn\u001b[0m\u001b[0;34m,\u001b[0m \u001b[0mfrozendict\u001b[0m\u001b[0;34m.\u001b[0m\u001b[0mfrozendict\u001b[0m\u001b[0;34m(\u001b[0m\u001b[0mstatic_reqs\u001b[0m\u001b[0;34m)\u001b[0m\u001b[0;34m)\u001b[0m\u001b[0;34m\u001b[0m\u001b[0;34m\u001b[0m\u001b[0m\n",
            "\u001b[0;32m/usr/local/lib/python3.10/dist-packages/neural_tangents/_src/stax/elementwise.py\u001b[0m in \u001b[0;36mnew_kernel_fn\u001b[0;34m(k, **kwargs)\u001b[0m\n\u001b[1;32m   1257\u001b[0m \u001b[0;34m\u001b[0m\u001b[0m\n\u001b[1;32m   1258\u001b[0m     \u001b[0;32mif\u001b[0m \u001b[0;32mnot\u001b[0m \u001b[0mk\u001b[0m\u001b[0;34m.\u001b[0m\u001b[0mis_gaussian\u001b[0m\u001b[0;34m:\u001b[0m\u001b[0;34m\u001b[0m\u001b[0;34m\u001b[0m\u001b[0m\n\u001b[0;32m-> 1259\u001b[0;31m       raise ValueError('The input to the activation function must be Gaussian, '\n\u001b[0m\u001b[1;32m   1260\u001b[0m                        \u001b[0;34m'i.e. a random affine transform is required before the '\u001b[0m\u001b[0;34m\u001b[0m\u001b[0;34m\u001b[0m\u001b[0m\n\u001b[1;32m   1261\u001b[0m                        'activation function.')\n",
            "\u001b[0;31mValueError\u001b[0m: The input to the activation function must be Gaussian, i.e. a random affine transform is required before the activation function."
          ]
        }
      ],
      "source": [
        "### Test Cell\n",
        "L = 3\n",
        "rootKey, key = split_keys(rootKey,3)\n",
        "n_list = [8, 4, 2, 1]\n",
        "init_fn, apply_fn, kernel_fn, layer_list = mlp_neural_tangents(Cw_sqrt = 1, Cb_sqrt = 1, n_list = n_list, L = L, parameterization = \"standard\")\n",
        "layers_functions = get_nn_layers_functions(layer_list)\n",
        "print((kernel_fn(x1.reshape((1,16)), x1.reshape((1,16))).nngp)[0])\n",
        "k_0_list = []\n",
        "kernel_0_ouptut = layers_functions[\"kernel_fns\"][0](x1.reshape(1,16), x1.reshape(1,16)).nngp\n",
        "print(kernel_0_ouptut[0])\n",
        "\n",
        "kernel_1_ouptut = layers_functions[\"kernel_fns\"][1](kernel_0_ouptut, kernel_0_ouptut).nngp\n",
        "print(kernel_1_ouptut[0])\n",
        "\n",
        "\n"
      ]
    },
    {
      "cell_type": "code",
      "execution_count": null,
      "metadata": {
        "id": "XO0K-UxigTZR"
      },
      "outputs": [],
      "source": []
    }
  ],
  "metadata": {
    "accelerator": "GPU",
    "colab": {
      "provenance": [],
      "authorship_tag": "ABX9TyOxTCXtqgEv7mLK6unvDyOx",
      "include_colab_link": true
    },
    "gpuClass": "standard",
    "kernelspec": {
      "display_name": "Python 3",
      "name": "python3"
    },
    "language_info": {
      "name": "python"
    }
  },
  "nbformat": 4,
  "nbformat_minor": 0
}