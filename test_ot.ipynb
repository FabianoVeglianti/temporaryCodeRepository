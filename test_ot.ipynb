{
 "cells": [
  {
   "cell_type": "code",
   "execution_count": 1,
   "metadata": {},
   "outputs": [
    {
     "name": "stderr",
     "output_type": "stream",
     "text": [
      "2023-05-22 14:52:26.248617: W tensorflow/compiler/tf2tensorrt/utils/py_utils.cc:38] TF-TRT Warning: Could not find TensorRT\n"
     ]
    }
   ],
   "source": [
    "\n",
    "from jax import random\n",
    "from jax import jit, grad, vmap\n",
    "\n",
    "import ot\n",
    "import json\n",
    "from scipy.stats import norm, multivariate_normal\n",
    "import numpy as np\n",
    "\n",
    "import time\n",
    "import json\n",
    "from google.colab import files\n"
   ]
  },
  {
   "cell_type": "code",
   "execution_count": 2,
   "metadata": {},
   "outputs": [],
   "source": [
    "def get_samples_by_layers_and_width(L, width, policy):\n",
    "    with open(policy+'_samples.json','r') as file:\n",
    "          # First we load existing data into a dict.\n",
    "\n",
    "        file_data = json.load(file)\n",
    "        # Join new_data with file_data inside emp_details\n",
    "        samples = [data['sample'] for data in file_data[\"samples\"] if data['L'] == L and data['n'] == width]\n",
    "\n",
    "        return samples"
   ]
  },
  {
   "cell_type": "code",
   "execution_count": 5,
   "metadata": {},
   "outputs": [],
   "source": [
    "def compute_wasserstein(sample, M, numItermax):\n",
    "      # Computing Kolmogorov Distance\n",
    "\n",
    "    \n",
    "    seed=1\n",
    "    rootKey = random.PRNGKey(seed)\n",
    "\n",
    "\n",
    "    # Computing Wasserstein Distance\n",
    "    print(\"... computing wasserstein distance\")\n",
    "\n",
    "    gaussian_sample = np.array(random.normal(rootKey, (M, 2)) * 1.5)\n",
    "    a, b = np.ones((M,)) / M, np.ones((M,)) / M\n",
    "    print(\"... computing cost matrix\")\n",
    "    M = ot.dist(sample, gaussian_sample, metric = 'sqeuclidean', p = 2)\n",
    "    print(\"... resolving ot problem\")\n",
    "    wassestein_2_distance = ot.emd2(a, b, M, numItermax=numItermax)\n",
    "    return wassestein_2_distance\n",
    "    "
   ]
  },
  {
   "cell_type": "code",
   "execution_count": 8,
   "metadata": {},
   "outputs": [
    {
     "name": "stdout",
     "output_type": "stream",
     "text": [
      "(15000, 2)\n",
      "... computing wasserstein distance\n",
      "... computing cost matrix\n",
      "... resolving ot problem\n"
     ]
    },
    {
     "ename": "",
     "evalue": "",
     "output_type": "error",
     "traceback": [
      "\u001b[1;31mCanceled future for execute_request message before replies were done"
     ]
    },
    {
     "ename": "",
     "evalue": "",
     "output_type": "error",
     "traceback": [
      "\u001b[1;31mSi è verificato un arresto anomalo del kernel durante l'esecuzione del codice nella cella attiva o in una cella precedente. Esaminare il codice nelle celle per identificare una possibile causa dell'errore. Per altre informazioni, fare clic su <a href='https://aka.ms/vscodeJupyterKernelCrash'>here</a>. Per altri dettagli, vedere Jupyter <a href='command:jupyter.viewOutput'>log</a>."
     ]
    }
   ],
   "source": [
    "samples = get_samples_by_layers_and_width(3, 2, 'same')\n",
    "M = 15000\n",
    "samples = np.array(samples).reshape(len(samples[0]), 2)\n",
    "samples = samples[0:M,:]\n",
    "print(samples.shape)\n",
    "numItermax = 300000\n",
    "start = time.time()\n",
    "w2 = compute_wasserstein(samples, M, numItermax)\n",
    "print(\"time = \", time.time() - start)\n",
    "print(\"w2 = \", w2)"
   ]
  },
  {
   "cell_type": "code",
   "execution_count": null,
   "metadata": {},
   "outputs": [],
   "source": []
  }
 ],
 "metadata": {
  "kernelspec": {
   "display_name": "venvTesi",
   "language": "python",
   "name": "python3"
  },
  "language_info": {
   "codemirror_mode": {
    "name": "ipython",
    "version": 3
   },
   "file_extension": ".py",
   "mimetype": "text/x-python",
   "name": "python",
   "nbconvert_exporter": "python",
   "pygments_lexer": "ipython3",
   "version": "3.11.2"
  },
  "orig_nbformat": 4
 },
 "nbformat": 4,
 "nbformat_minor": 2
}
