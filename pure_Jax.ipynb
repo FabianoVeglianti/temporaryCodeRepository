{
  "nbformat": 4,
  "nbformat_minor": 0,
  "metadata": {
    "colab": {
      "provenance": []
    },
    "kernelspec": {
      "name": "python3",
      "display_name": "Python 3"
    },
    "language_info": {
      "name": "python"
    }
  },
  "cells": [
    {
      "cell_type": "code",
      "execution_count": 1,
      "metadata": {
        "colab": {
          "base_uri": "https://localhost:8080/"
        },
        "id": "LODc3MLtV8RE",
        "outputId": "614e8b5e-d698-47ca-86d8-94b31c98c8b4"
      },
      "outputs": [
        {
          "output_type": "stream",
          "name": "stdout",
          "text": [
            "\u001b[2K     \u001b[90m━━━━━━━━━━━━━━━━━━━━━━━━━━━━━━━━━━━━━━━━\u001b[0m \u001b[32m2.1/2.1 MB\u001b[0m \u001b[31m16.5 MB/s\u001b[0m eta \u001b[36m0:00:00\u001b[0m\n",
            "\u001b[2K     \u001b[90m━━━━━━━━━━━━━━━━━━━━━━━━━━━━━━━━━━━━━━━\u001b[0m \u001b[32m145.3/145.3 MB\u001b[0m \u001b[31m3.2 MB/s\u001b[0m eta \u001b[36m0:00:00\u001b[0m\n",
            "\u001b[?25h\u001b[33mWARNING: Running pip as the 'root' user can result in broken permissions and conflicting behaviour with the system package manager. It is recommended to use a virtual environment instead: https://pip.pypa.io/warnings/venv\u001b[0m\u001b[33m\n",
            "\u001b[0m\u001b[33mWARNING: Running pip as the 'root' user can result in broken permissions and conflicting behaviour with the system package manager. It is recommended to use a virtual environment instead: https://pip.pypa.io/warnings/venv\u001b[0m\u001b[33m\n",
            "\u001b[0m  Preparing metadata (setup.py) ... \u001b[?25l\u001b[?25hdone\n",
            "\u001b[2K     \u001b[90m━━━━━━━━━━━━━━━━━━━━━━━━━━━━━━━━━━━━━━━\u001b[0m \u001b[32m114.3/114.3 kB\u001b[0m \u001b[31m7.7 MB/s\u001b[0m eta \u001b[36m0:00:00\u001b[0m\n",
            "\u001b[2K     \u001b[90m━━━━━━━━━━━━━━━━━━━━━━━━━━━━━━━━━━━━━━━━\u001b[0m \u001b[32m79.7/79.7 kB\u001b[0m \u001b[31m7.8 MB/s\u001b[0m eta \u001b[36m0:00:00\u001b[0m\n",
            "\u001b[2K     \u001b[90m━━━━━━━━━━━━━━━━━━━━━━━━━━━━━━━━━━━━━━━━\u001b[0m \u001b[32m17.3/17.3 MB\u001b[0m \u001b[31m61.3 MB/s\u001b[0m eta \u001b[36m0:00:00\u001b[0m\n",
            "\u001b[?25h  Building wheel for neural-tangents (setup.py) ... \u001b[?25l\u001b[?25hdone\n",
            "\u001b[31mERROR: pip's dependency resolver does not currently take into account all the packages that are installed. This behaviour is the source of the following dependency conflicts.\n",
            "numba 0.56.4 requires numpy<1.24,>=1.18, but you have numpy 1.24.2 which is incompatible.\u001b[0m\u001b[31m\n",
            "\u001b[0m\u001b[33mWARNING: Running pip as the 'root' user can result in broken permissions and conflicting behaviour with the system package manager. It is recommended to use a virtual environment instead: https://pip.pypa.io/warnings/venv\u001b[0m\u001b[33m\n",
            "\u001b[0m"
          ]
        }
      ],
      "source": [
        "!pip install -q --upgrade pip\n",
        "!pip install -q --upgrade jax[cuda11_cudnn82] -f https://storage.googleapis.com/jax-releases/jax_cuda_releases.html\n",
        "!pip install -q tensorflow-datasets\n",
        "!pip install -q git+https://www.github.com/google/neural-tangents"
      ]
    },
    {
      "cell_type": "code",
      "source": [
        "import jax\n",
        "import numpy as np\n",
        "\n",
        "from jax import jit\n",
        "from jax import grad\n",
        "from jax import random\n",
        "\n",
        "import jax.numpy as jnp\n",
        "from jax.nn import log_softmax\n",
        "from jax.example_libraries import optimizers\n",
        "\n",
        "import tensorflow_datasets as tfds\n",
        "\n",
        "import neural_tangents as nt\n",
        "from neural_tangents import stax\n",
        "import matplotlib.pyplot as plt\n",
        "\n",
        "from jax.config import config\n",
        "config.update(\"jax_enable_x64\", True)"
      ],
      "metadata": {
        "id": "F3MTsL0giJgy"
      },
      "execution_count": 2,
      "outputs": []
    },
    {
      "cell_type": "code",
      "source": [
        "W_0 = [-0.7645158 , -0.0250984 , -1.133804  , -0.03829474, -0.13075697,\n",
        "          -0.11048132,  1.0224955 , -0.9789039 ,  0.81434107,  0.28093112]\n",
        "b_0 = [-0.11460838,\n",
        "         -0.3517475 ,\n",
        "          0.12212043,\n",
        "          0.47735927,\n",
        "          0.34522718,\n",
        "         -0.5399481 ,\n",
        "         -0.16559786,\n",
        "         -0.24302545,\n",
        "          0.09792899,\n",
        "          0.5944655 ]\n",
        "W_1 = [-1.1232858 ,  1.0349628 ,  0.97679436, -0.18153423,  0.7232132 ,\n",
        "           0.4670005 , -0.36788744,  0.2350446 , -0.3958354 ,  0.8658353 ]\n",
        "b_1 = [-0.18262307]"
      ],
      "metadata": {
        "id": "X6Lz0cQoiZvO"
      },
      "execution_count": 3,
      "outputs": []
    },
    {
      "cell_type": "code",
      "source": [
        "def init_mlp_params(layer_widths, list):\n",
        "    params = []\n",
        "\n",
        "    # Allocate weights and biases (model parameters)\n",
        "    # Notice: we're not using JAX's PRNG here - doesn't matter for this simple example\n",
        "    a = 0\n",
        "    for n_in, n_out in zip(layer_widths[:-1], layer_widths[1:]):\n",
        "        if a == 0:\n",
        "          params.append(\n",
        "            dict(weights=list[0],\n",
        "                biases=list[1]))\n",
        "          a = a + 1\n",
        "        else:\n",
        "          params.append(\n",
        "            dict(weights=list[2],\n",
        "                biases=list[3]))\n",
        "    return params\n",
        "\n",
        "# Instantiate a single input - single output, 3 layer (2 hidden layers) deep MLP\n",
        "params = init_mlp_params([1, 10, 1], [jnp.array([W_0], dtype='float64'), jnp.array(b_0, dtype='float64'), jnp.array([W_1], dtype='float64').T, jnp.array(b_1, dtype='float64')])\n",
        "\n",
        "# Another example of how we might use tree_map - verify that shapes make sense:\n",
        "jax.tree_map(lambda x: x.shape, params)"
      ],
      "metadata": {
        "colab": {
          "base_uri": "https://localhost:8080/"
        },
        "id": "jt9t4nRdiMRY",
        "outputId": "bf5ae3fe-b7f1-4371-c79d-c9bebee9be78"
      },
      "execution_count": 4,
      "outputs": [
        {
          "output_type": "stream",
          "name": "stderr",
          "text": [
            "WARNING:jax._src.xla_bridge:No GPU/TPU found, falling back to CPU. (Set TF_CPP_MIN_LOG_LEVEL=0 and rerun for more info.)\n"
          ]
        },
        {
          "output_type": "execute_result",
          "data": {
            "text/plain": [
              "[{'biases': (10,), 'weights': (1, 10)}, {'biases': (1,), 'weights': (10, 1)}]"
            ]
          },
          "metadata": {},
          "execution_count": 4
        }
      ]
    },
    {
      "cell_type": "code",
      "source": [
        "def forward(params, x):\n",
        "    *hidden, last = params\n",
        "\n",
        "    for layer in hidden:\n",
        "        x = jax.nn.relu(jnp.dot(x, layer['weights']) + layer['biases'])\n",
        "\n",
        "    return jnp.dot(x, last['weights']) + last['biases']\n",
        "\n",
        "def loss_fn(params, x, y):\n",
        "    return jnp.mean((forward(params, x) - y) ** 2)  # MSE loss\n",
        "\n",
        "lr = 0.00001\n",
        "\n",
        "@jit  # notice how we do jit only at the highest level - XLA will have plenty of space to optimize\n",
        "def update(params, x, y):\n",
        "\n",
        "    # Note that grads is a pytree with the same structure as params.\n",
        "    # grad is one of the many JAX functions that has built-in support for pytrees!\n",
        "\n",
        "    grads = jax.grad(loss_fn)(params, x, y)\n",
        "\n",
        "    # Task: analyze grads and make sure it has the same structure as params\n",
        "\n",
        "    # SGD update\n",
        "    return jax.tree_util.tree_map(\n",
        "        lambda p, g: p - lr * g, params, grads  # for every leaf i.e. for every param of MLP\n",
        "    )"
      ],
      "metadata": {
        "id": "ByarNpFmim1D"
      },
      "execution_count": 5,
      "outputs": []
    },
    {
      "cell_type": "code",
      "source": [
        "params"
      ],
      "metadata": {
        "colab": {
          "base_uri": "https://localhost:8080/"
        },
        "id": "GV2l77bVkLup",
        "outputId": "755960eb-58d6-4de9-cd16-2ac4334f15cc"
      },
      "execution_count": 6,
      "outputs": [
        {
          "output_type": "execute_result",
          "data": {
            "text/plain": [
              "[{'weights': Array([[-0.7645158 , -0.0250984 , -1.133804  , -0.03829474, -0.13075697,\n",
              "          -0.11048132,  1.0224955 , -0.9789039 ,  0.81434107,  0.28093112]],      dtype=float64),\n",
              "  'biases': Array([-0.11460838, -0.3517475 ,  0.12212043,  0.47735927,  0.34522718,\n",
              "         -0.5399481 , -0.16559786, -0.24302545,  0.09792899,  0.5944655 ],      dtype=float64)},\n",
              " {'weights': Array([[-1.1232858 ],\n",
              "         [ 1.0349628 ],\n",
              "         [ 0.97679436],\n",
              "         [-0.18153423],\n",
              "         [ 0.7232132 ],\n",
              "         [ 0.4670005 ],\n",
              "         [-0.36788744],\n",
              "         [ 0.2350446 ],\n",
              "         [-0.3958354 ],\n",
              "         [ 0.8658353 ]], dtype=float64),\n",
              "  'biases': Array([-0.18262307], dtype=float64)}]"
            ]
          },
          "metadata": {},
          "execution_count": 6
        }
      ]
    },
    {
      "cell_type": "code",
      "source": [
        "X = jnp.array([[ 1.4229934 ],\n",
        "       [-0.7694232 ],\n",
        "       [ 0.18693154],\n",
        "       [-1.8928823 ],\n",
        "       [ 0.8390223 ],\n",
        "       [-0.80786455],\n",
        "       [-1.1990117 ],\n",
        "       [ 1.7281239 ],\n",
        "       [ 0.6514684 ],\n",
        "       [-0.18889305],\n",
        "       [-1.7007519 ],\n",
        "       [ 0.4624187 ],\n",
        "       [-1.4208488 ],\n",
        "       [ 2.0488164 ],\n",
        "       [ 0.18885063],\n",
        "       [ 0.26335493],\n",
        "       [-1.2319794 ],\n",
        "       [ 0.57641345],\n",
        "       [ 1.4143786 ],\n",
        "       [-0.18824942],\n",
        "       [ 0.6712429 ],\n",
        "       [ 1.9626212 ],\n",
        "       [-0.6380914 ],\n",
        "       [ 1.6973408 ],\n",
        "       [ 1.1379755 ],\n",
        "       [-0.06424444],\n",
        "       [ 0.03995398],\n",
        "       [ 0.7607389 ],\n",
        "       [ 1.5491706 ],\n",
        "       [ 0.45916963],\n",
        "       [-0.42302114],\n",
        "       [-0.22891377],\n",
        "       [-0.9554228 ],\n",
        "       [-0.72487444],\n",
        "       [-0.44829613],\n",
        "       [-1.6084336 ],\n",
        "       [-0.00515358],\n",
        "       [-0.46755362],\n",
        "       [-0.63108253],\n",
        "       [ 1.4433128 ],\n",
        "       [ 0.09611866],\n",
        "       [ 0.1519512 ],\n",
        "       [-0.21378434],\n",
        "       [-0.3947631 ],\n",
        "       [ 1.8151172 ],\n",
        "       [ 1.3990598 ],\n",
        "       [-0.38444638],\n",
        "       [-0.45884144],\n",
        "       [-0.02543407],\n",
        "       [ 0.1947339 ],\n",
        "       [ 1.2576802 ],\n",
        "       [-0.49022987],\n",
        "       [-0.48774967],\n",
        "       [ 0.5709151 ],\n",
        "       [-0.62209004],\n",
        "       [ 1.1585314 ],\n",
        "       [-0.61611164],\n",
        "       [-0.853702  ],\n",
        "       [-1.9548331 ],\n",
        "       [ 0.09757172],\n",
        "       [-0.7471279 ],\n",
        "       [ 0.14180093],\n",
        "       [-0.73419815],\n",
        "       [ 1.3191959 ],\n",
        "       [-0.5761279 ],\n",
        "       [ 0.2514541 ],\n",
        "       [ 0.79598933],\n",
        "       [-0.5963267 ],\n",
        "       [-0.28341734],\n",
        "       [ 0.38109946],\n",
        "       [-0.2282071 ],\n",
        "       [-0.5496032 ],\n",
        "       [ 0.33840123],\n",
        "       [ 1.881508  ],\n",
        "       [-0.1858809 ],\n",
        "       [ 1.5156671 ],\n",
        "       [-0.71115583],\n",
        "       [-1.2660422 ],\n",
        "       [-0.7562617 ],\n",
        "       [-0.08545087],\n",
        "       [ 0.27632588],\n",
        "       [ 1.6856902 ],\n",
        "       [-0.44601882],\n",
        "       [ 2.587651  ],\n",
        "       [ 0.78883994],\n",
        "       [ 0.8980923 ],\n",
        "       [ 2.0546176 ],\n",
        "       [ 1.4392779 ],\n",
        "       [ 0.826575  ],\n",
        "       [-0.02757164],\n",
        "       [-0.95617485],\n",
        "       [-0.65805084],\n",
        "       [ 0.3751643 ],\n",
        "       [ 0.7270253 ],\n",
        "       [ 0.28862196],\n",
        "       [-0.55771255],\n",
        "       [ 1.1139343 ],\n",
        "       [-0.4713115 ],\n",
        "       [-0.30672675],\n",
        "       [-0.91346914]], dtype='float64')"
      ],
      "metadata": {
        "id": "GPhFSfVMkQaI"
      },
      "execution_count": 7,
      "outputs": []
    },
    {
      "cell_type": "code",
      "source": [
        "y = jnp.array([[ -96.36676  ],\n",
        "       [ -17.848995 ],\n",
        "       [ -52.647736 ],\n",
        "       [  20.776796 ],\n",
        "       [ -72.78775  ],\n",
        "       [ -15.545514 ],\n",
        "       [  -3.3958688],\n",
        "       [-106.27772  ],\n",
        "       [ -67.76811  ],\n",
        "       [ -38.206234 ],\n",
        "       [  14.274464 ],\n",
        "       [ -62.74348  ],\n",
        "       [   5.592495 ],\n",
        "       [-116.78298  ],\n",
        "       [ -53.314274 ],\n",
        "       [ -53.27179  ],\n",
        "       [  -1.1411812],\n",
        "       [ -62.970932 ],\n",
        "       [ -94.354904 ],\n",
        "       [ -38.586704 ],\n",
        "       [ -68.538445 ],\n",
        "       [-112.86392  ],\n",
        "       [ -22.652624 ],\n",
        "       [-102.99926  ],\n",
        "       [ -83.839165 ],\n",
        "       [ -42.152214 ],\n",
        "       [ -44.903263 ],\n",
        "       [ -70.885864 ],\n",
        "       [ -97.29062  ],\n",
        "       [ -57.776115 ],\n",
        "       [ -32.12645  ],\n",
        "       [ -36.544815 ],\n",
        "       [ -10.839234 ],\n",
        "       [ -19.714369 ],\n",
        "       [ -27.709055 ],\n",
        "       [  11.107928 ],\n",
        "       [ -44.628773 ],\n",
        "       [ -28.248579 ],\n",
        "       [ -23.791153 ],\n",
        "       [ -94.35395  ],\n",
        "       [ -47.045208 ],\n",
        "       [ -50.967876 ],\n",
        "       [ -37.87078  ],\n",
        "       [ -30.886461 ],\n",
        "       [-109.433105 ],\n",
        "       [ -95.02953  ],\n",
        "       [ -31.650303 ],\n",
        "       [ -28.934679 ],\n",
        "       [ -43.025997 ],\n",
        "       [ -53.057724 ],\n",
        "       [ -87.71894  ],\n",
        "       [ -27.471378 ],\n",
        "       [ -29.154205 ],\n",
        "       [ -64.24519  ],\n",
        "       [ -22.715006 ],\n",
        "       [ -83.91665  ],\n",
        "       [ -25.051847 ],\n",
        "       [ -16.129763 ],\n",
        "       [  23.871988 ],\n",
        "       [ -46.712833 ],\n",
        "       [ -19.295914 ],\n",
        "       [ -50.223335 ],\n",
        "       [ -19.131683 ],\n",
        "       [ -90.35635  ],\n",
        "       [ -23.285646 ],\n",
        "       [ -51.75896  ],\n",
        "       [ -71.9968   ],\n",
        "       [ -24.174744 ],\n",
        "       [ -36.340866 ],\n",
        "       [ -57.7881   ],\n",
        "       [ -35.786766 ],\n",
        "       [ -25.58188  ],\n",
        "       [ -56.251522 ],\n",
        "       [-111.275154 ],\n",
        "       [ -39.119453 ],\n",
        "       [ -99.110504 ],\n",
        "       [ -19.99335  ],\n",
        "       [  -0.8735297],\n",
        "       [ -18.850683 ],\n",
        "       [ -43.141254 ],\n",
        "       [ -54.445007 ],\n",
        "       [-104.783424 ],\n",
        "       [ -28.28434  ],\n",
        "       [-134.93835  ],\n",
        "       [ -73.10167  ],\n",
        "       [ -76.27928  ],\n",
        "       [-117.71327  ],\n",
        "       [ -96.39233  ],\n",
        "       [ -73.58957  ],\n",
        "       [ -44.99873  ],\n",
        "       [ -12.710113 ],\n",
        "       [ -21.779875 ],\n",
        "       [ -58.46139  ],\n",
        "       [ -69.609116 ],\n",
        "       [ -55.20095  ],\n",
        "       [ -25.23826  ],\n",
        "       [ -82.964775 ],\n",
        "       [ -28.140932 ],\n",
        "       [ -33.79203  ],\n",
        "       [ -11.98914  ]], dtype='float64')"
      ],
      "metadata": {
        "id": "9dy_eLZnkRMg"
      },
      "execution_count": 8,
      "outputs": []
    },
    {
      "cell_type": "code",
      "source": [
        "num_epochs = 5000\n",
        "for _ in range(num_epochs):\n",
        "    \n",
        "    params = update(params, X, y)  \n",
        "plt.scatter(X, y, label = 'True Values')\n",
        "plt.scatter(X, forward(params,X), label='Model Prediction')\n",
        "plt.legend();"
      ],
      "metadata": {
        "colab": {
          "base_uri": "https://localhost:8080/",
          "height": 265
        },
        "id": "AevJREqtjXOh",
        "outputId": "38058de2-180c-487a-d594-faf38aba38f2"
      },
      "execution_count": 9,
      "outputs": [
        {
          "output_type": "display_data",
          "data": {
            "text/plain": [
              "<Figure size 432x288 with 1 Axes>"
            ],
            "image/png": "[encoded data removed]"
          },
          "metadata": {
            "needs_background": "light"
          }
        }
      ]
    },
    {
      "cell_type": "code",
      "source": [
        "for pytree in params:\n",
        "    leaves = jax.tree_leaves(pytree)  # handy little function\n",
        "    print(f\"{repr(pytree):<45} has {len(leaves)} leaves: {leaves}\")"
      ],
      "metadata": {
        "colab": {
          "base_uri": "https://localhost:8080/"
        },
        "id": "ul_1rO0JkhTx",
        "outputId": "64489cd2-b675-4500-da5f-e0f1ef90be38"
      },
      "execution_count": null,
      "outputs": [
        {
          "output_type": "stream",
          "name": "stdout",
          "text": [
            "{'biases': Array([ 0.59508141, -0.3517475 , -0.2319476 ,  2.56100166, -0.07157149,\n",
            "       -0.5399481 ,  3.08661607, -0.2985289 ,  3.92480537, -0.03676554],      dtype=float64), 'weights': Array([[-0.79592709, -0.0250984 , -1.07658782,  1.4317502 , -0.20116218,\n",
            "        -0.11048132,  3.44207463, -0.97132167,  3.28820138, -0.11210699]],      dtype=float64)} has 2 leaves: [Array([ 0.59508141, -0.3517475 , -0.2319476 ,  2.56100166, -0.07157149,\n",
            "       -0.5399481 ,  3.08661607, -0.2985289 ,  3.92480537, -0.03676554],      dtype=float64), Array([[-0.79592709, -0.0250984 , -1.07658782,  1.4317502 , -0.20116218,\n",
            "        -0.11048132,  3.44207463, -0.97132167,  3.28820138, -0.11210699]],      dtype=float64)]\n",
            "{'biases': Array([-2.05498672], dtype=float64), 'weights': Array([[-1.28514664],\n",
            "       [ 1.0349628 ],\n",
            "       [ 0.93085308],\n",
            "       [-2.90042771],\n",
            "       [ 0.65741565],\n",
            "       [ 0.4670005 ],\n",
            "       [-4.52080114],\n",
            "       [ 0.26555046],\n",
            "       [-5.06956488],\n",
            "       [ 0.5752273 ]], dtype=float64)} has 2 leaves: [Array([-2.05498672], dtype=float64), Array([[-1.28514664],\n",
            "       [ 1.0349628 ],\n",
            "       [ 0.93085308],\n",
            "       [-2.90042771],\n",
            "       [ 0.65741565],\n",
            "       [ 0.4670005 ],\n",
            "       [-4.52080114],\n",
            "       [ 0.26555046],\n",
            "       [-5.06956488],\n",
            "       [ 0.5752273 ]], dtype=float64)]\n"
          ]
        },
        {
          "output_type": "stream",
          "name": "stderr",
          "text": [
            "<ipython-input-34-5c95a4c0b908>:2: FutureWarning: jax.tree_leaves is deprecated, and will be removed in a future release. Use jax.tree_util.tree_leaves instead.\n",
            "  leaves = jax.tree_leaves(pytree)  # handy little function\n"
          ]
        }
      ]
    },
    {
      "cell_type": "code",
      "source": [],
      "metadata": {
        "id": "JjvtOplBqI13"
      },
      "execution_count": null,
      "outputs": []
    }
  ]
}